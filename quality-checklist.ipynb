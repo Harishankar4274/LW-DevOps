{
 "cells": [
  {
   "cell_type": "code",
   "execution_count": 1,
   "metadata": {},
   "outputs": [],
   "source": [
    "import os"
   ]
  },
  {
   "cell_type": "code",
   "execution_count": 2,
   "metadata": {
    "scrolled": true
   },
   "outputs": [
    {
     "name": "stdout",
     "output_type": "stream",
     "text": [
      "Press 1 to PASS the code\n",
      "Press 0 to FAIL the code : 0\n",
      "This code has failed the QA test\n"
     ]
    }
   ],
   "source": [
    "ans = int(input(\"\"\"Press 1 to PASS the code\n",
    "Press 0 to FAIL the code : \"\"\"))\n",
    "\n",
    "if ans == 1:\n",
    "    print(\"This code has passed the QA test\")\n",
    "    os.system('curl --user \"admin:docker\" http://localhost:8080/job/auto-merge/build?token=auto-merge')\n",
    "else:\n",
    "    print(\"This code has failed the QA test\")\n",
    "    os.system(\"docker rm -f Test_Web_Server\")"
   ]
  },
  {
   "cell_type": "code",
   "execution_count": null,
   "metadata": {},
   "outputs": [],
   "source": []
  }
 ],
 "metadata": {
  "kernelspec": {
   "display_name": "Python 3",
   "language": "python",
   "name": "python3"
  },
  "language_info": {
   "codemirror_mode": {
    "name": "ipython",
    "version": 3
   },
   "file_extension": ".py",
   "mimetype": "text/x-python",
   "name": "python",
   "nbconvert_exporter": "python",
   "pygments_lexer": "ipython3",
   "version": "3.7.6"
  }
 },
 "nbformat": 4,
 "nbformat_minor": 4
}
